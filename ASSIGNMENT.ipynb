{
 "cells": [
  {
   "cell_type": "code",
   "execution_count": 1,
   "id": "ebc48190",
   "metadata": {},
   "outputs": [],
   "source": [
    "#### ASSIGNMENT"
   ]
  },
  {
   "cell_type": "code",
   "execution_count": 7,
   "id": "7e5aed7f",
   "metadata": {},
   "outputs": [
    {
     "name": "stdout",
     "output_type": "stream",
     "text": [
      "[0. 0. 0. 0. 1. 0. 0. 0. 0. 0.]\n"
     ]
    }
   ],
   "source": [
    "###QUESTION 1 - Create a null vector of size 10 but the fifth value which is 1.\n",
    "\n",
    "import numpy as np\n",
    "y=np.zeros(10)\n",
    "y[4]=1\n",
    "print(y)"
   ]
  },
  {
   "cell_type": "code",
   "execution_count": 27,
   "id": "bbf7d261",
   "metadata": {},
   "outputs": [
    {
     "name": "stdout",
     "output_type": "stream",
     "text": [
      "[10 11 12 13 14 15 16 17 18 19 20 21 22 23 24 25 26 27 28 29 30 31 32 33\n",
      " 34 35 36 37 38 39 40 41 42 43 44 45 46 47 48 49]\n"
     ]
    }
   ],
   "source": [
    "### QUESTION 2 - Create a vector with values ranging from 10 to 49\n",
    "\n",
    "import numpy as np\n",
    "x = np.arange(10,50)\n",
    "print(x)"
   ]
  },
  {
   "cell_type": "code",
   "execution_count": 17,
   "id": "d1c5e419",
   "metadata": {},
   "outputs": [
    {
     "name": "stdout",
     "output_type": "stream",
     "text": [
      "[[0 1 2]\n",
      " [3 4 5]\n",
      " [6 7 8]]\n"
     ]
    }
   ],
   "source": [
    "### QUESTION 3 - Create a 3x3 matrix with values ranging from 0 to 8\n",
    "\n",
    "import numpy as np\n",
    "x =  np.arange(0, 9).reshape(3,3)\n",
    "print(x)"
   ]
  },
  {
   "cell_type": "code",
   "execution_count": 20,
   "id": "662266b5",
   "metadata": {},
   "outputs": [
    {
     "name": "stdout",
     "output_type": "stream",
     "text": [
      "(array([0, 1, 4], dtype=int64),)\n"
     ]
    }
   ],
   "source": [
    "### QUESTION 4 -  Find indices of non-zero elements from [1,2,0,0,4,0]\n",
    "\n",
    "import numpy as np\n",
    "arr = [1,2,0,0,4,0]\n",
    "x = np.nonzero(arr)\n",
    "print(x)"
   ]
  },
  {
   "cell_type": "code",
   "execution_count": 23,
   "id": "723f6c48",
   "metadata": {},
   "outputs": [
    {
     "name": "stdout",
     "output_type": "stream",
     "text": [
      "[[0.30584912 0.32094681 0.68801972 0.73923092 0.93279452 0.39764084\n",
      "  0.48616455 0.18115439 0.82486423 0.2206549 ]\n",
      " [0.08411462 0.18473555 0.37618725 0.17795647 0.87312235 0.6701918\n",
      "  0.76345195 0.04303151 0.49027347 0.35842088]\n",
      " [0.00977747 0.56059865 0.52144808 0.21030424 0.19057228 0.86504672\n",
      "  0.47878142 0.69972065 0.60903104 0.54404862]\n",
      " [0.07614558 0.64895446 0.78253957 0.698088   0.32450687 0.07433647\n",
      "  0.53051541 0.28285151 0.95636683 0.60652794]\n",
      " [0.56342429 0.49442801 0.47357008 0.52394214 0.79482053 0.54439515\n",
      "  0.85484028 0.28947538 0.75149198 0.73387186]\n",
      " [0.38207124 0.16158523 0.23124164 0.83058356 0.20486857 0.3660033\n",
      "  0.12403652 0.41001007 0.93301687 0.98135376]\n",
      " [0.50592901 0.15352339 0.66069386 0.502564   0.71274246 0.34012225\n",
      "  0.1399791  0.83308591 0.6346247  0.24332478]\n",
      " [0.41579326 0.38544988 0.54027789 0.1026846  0.97513008 0.59950182\n",
      "  0.96944617 0.77166628 0.59774823 0.00718244]\n",
      " [0.78576969 0.14672559 0.44518294 0.73891361 0.57442274 0.60120036\n",
      "  0.98690904 0.37771126 0.77904008 0.66412289]\n",
      " [0.79950332 0.81595234 0.95672202 0.78130077 0.20330741 0.92155161\n",
      "  0.44471586 0.05714723 0.01706018 0.75420518]]\n",
      "Max of array is :  0.9869090373889424\n",
      "Min of array is :  0.0071824352299050265\n"
     ]
    }
   ],
   "source": [
    "### QUESTION 5 - Create a 10x10 array with random values and find the minimum and maximum values\n",
    "\n",
    "import numpy as np\n",
    "arr = np.random.random((10,10))\n",
    "print(arr)\n",
    "min_of_arr = arr.min()\n",
    "max_of_arr = arr.max()\n",
    "print('Max of array is : ',max_of_arr)\n",
    "print('Min of array is : ',min_of_arr)"
   ]
  },
  {
   "cell_type": "code",
   "execution_count": 28,
   "id": "0d3dce01",
   "metadata": {},
   "outputs": [
    {
     "name": "stdout",
     "output_type": "stream",
     "text": [
      "[0.98543099 0.89942748 0.71866149 0.14276851 0.22124088 0.91620971\n",
      " 0.12542687 0.04577899 0.49729085 0.5414177 ]\n",
      "Mean of array is :  0.5093653482667742\n"
     ]
    }
   ],
   "source": [
    "### QUESTION 6 - Create a random vector of size 30 and find the mean value\n",
    "\n",
    "import numpy as np\n",
    "x = np.random.random(10)\n",
    "print(x)\n",
    "mean = x.mean()\n",
    "print(\"Mean of array is : \",mean)"
   ]
  },
  {
   "cell_type": "code",
   "execution_count": null,
   "id": "2baf77b3",
   "metadata": {},
   "outputs": [],
   "source": []
  }
 ],
 "metadata": {
  "kernelspec": {
   "display_name": "Python 3 (ipykernel)",
   "language": "python",
   "name": "python3"
  },
  "language_info": {
   "codemirror_mode": {
    "name": "ipython",
    "version": 3
   },
   "file_extension": ".py",
   "mimetype": "text/x-python",
   "name": "python",
   "nbconvert_exporter": "python",
   "pygments_lexer": "ipython3",
   "version": "3.9.6"
  }
 },
 "nbformat": 4,
 "nbformat_minor": 5
}
